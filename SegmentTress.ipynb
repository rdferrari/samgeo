{
 "cells": [
  {
   "cell_type": "markdown",
   "metadata": {},
   "source": [
    "# Batch segmentation with text prompts\n",
    "\n",
    "This notebook shows how to generate object masks from text prompts with the Segment Anything Model (SAM). \n",
    "\n",
    "Working with Python 3.11.5 Environment. VS Code as Python IDE.\n",
    "\n",
    "Reference: https://samgeo.gishub.org/examples/text_prompts/#segment-the-image"
   ]
  },
  {
   "cell_type": "code",
   "execution_count": null,
   "metadata": {},
   "outputs": [],
   "source": [
    "# %pip install segment-geospatial groundingdino-py leafmap localtileserver gdal"
   ]
  },
  {
   "cell_type": "code",
   "execution_count": null,
   "metadata": {},
   "outputs": [],
   "source": [
    "import leafmap\n",
    "from samgeo import tms_to_geotiff\n",
    "from samgeo.text_sam import LangSAM"
   ]
  },
  {
   "cell_type": "code",
   "execution_count": null,
   "metadata": {},
   "outputs": [],
   "source": [
    "# Ackland, New Zealand (default)\n",
    "latitude = -36.8900857\n",
    "longitude = 174.7591024\n",
    "zoom = 19\n",
    "\n",
    "# render a map\n",
    "m = leafmap.Map(center=[latitude, longitude], zoom=zoom, height=\"800px\")\n",
    "m.add_basemap(\"SATELLITE\")\n",
    "m"
   ]
  },
  {
   "cell_type": "code",
   "execution_count": null,
   "metadata": {},
   "outputs": [],
   "source": [
    "bbox = m.user_roi_bounds()\n",
    "\n",
    "coordinates = m.bounds\n",
    "\n",
    "current_bbox = [coordinates[0][1], coordinates[0][0], coordinates[1][1], coordinates[1][0]]\n",
    "\n",
    "print(current_bbox)\n",
    "print(bbox, current_bbox)\n",
    "\n",
    "if bbox is None:\n",
    "    bbox = current_bbox\n",
    "    print(bbox)\n",
    "\n",
    "# Download tiles and generate image\n",
    "\n",
    "image = \"Image.tif\"\n",
    "tms_to_geotiff(output=image, bbox=bbox, zoom=zoom, source=\"Satellite\", overwrite=True)\n",
    "\n",
    "# Place the image on a map\n",
    "\n",
    "m.layers[-1].visible = False\n",
    "m.add_raster(image, layer_name=\"Image\")\n",
    "m"
   ]
  },
  {
   "cell_type": "code",
   "execution_count": null,
   "metadata": {},
   "outputs": [],
   "source": [
    "sam = LangSAM()\n",
    "text_prompt = \"tree\""
   ]
  },
  {
   "cell_type": "markdown",
   "metadata": {},
   "source": [
    "## Fine tunning\n",
    "\n",
    "box_threshold: A higher value makes the model more selective = fewer overall detections. A lower value, conversely, makes the model more tolerant, leading to increased detections, including potentially less confident ones.\n",
    "\n",
    "text_threshold: This value is used to associate the detected objects with the provided text prompt. A higher value requires a stronger association between the object and the text prompt, leading to more precise but potentially fewer associations. A lower value allows for looser associations, which could increase the number of associations but also introduce less precise matches."
   ]
  },
  {
   "cell_type": "code",
   "execution_count": null,
   "metadata": {},
   "outputs": [],
   "source": [
    "sam.predict(image, text_prompt, box_threshold=0.24, text_threshold=0.24)"
   ]
  },
  {
   "cell_type": "code",
   "execution_count": null,
   "metadata": {},
   "outputs": [],
   "source": [
    "# Vegetation with boxes\n",
    "\n",
    "sam.show_anns(\n",
    "    cmap='Greens',\n",
    "    box_color='red',\n",
    "    title='Vegetation segmented with boxes',\n",
    "    blend=True,\n",
    "    output='trees_with_boxes'\n",
    ")\n",
    "\n",
    "# Vegetation\n",
    "\n",
    "sam.show_anns(\n",
    "    cmap='Greens',\n",
    "    add_boxes=False,\n",
    "    alpha=0.5,\n",
    "    title='Vegetation segmented without boxes',\n",
    "    output='trees_greens'\n",
    ")\n",
    "\n",
    "# Positive and Negative\n",
    "\n",
    "sam.show_anns(\n",
    "    cmap='Greys_r',\n",
    "    add_boxes=False,\n",
    "    alpha=1,\n",
    "    title='Vegetation segmented grey scale',\n",
    "    blend=False,\n",
    "    output='trees_greyscale.tif',\n",
    ")"
   ]
  }
 ],
 "metadata": {
  "kernelspec": {
   "display_name": "SAM",
   "language": "python",
   "name": "python3"
  },
  "language_info": {
   "codemirror_mode": {
    "name": "ipython",
    "version": 3
   },
   "file_extension": ".py",
   "mimetype": "text/x-python",
   "name": "python",
   "nbconvert_exporter": "python",
   "pygments_lexer": "ipython3",
   "version": "3.11.5"
  }
 },
 "nbformat": 4,
 "nbformat_minor": 2
}
